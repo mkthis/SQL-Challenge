{
 "cells": [
  {
   "cell_type": "code",
   "execution_count": 6,
   "id": "df44bf94-da70-4fad-868e-ff7ebea5f5e7",
   "metadata": {},
   "outputs": [],
   "source": [
    "import pandas as pd\n",
    "import psycopg2\n",
    "import matplotlib.pyplot as plt\n",
    "\n",
    "conn = psycopg2.connect(\n",
    "    database=\"Employee_Database\",\n",
    "    user=\"postgres\",\n",
    "    password=\"postgres\")\n",
    "\n",
    "# Query All Records in the the Database\n",
    "salaries = pd.read_sql(\"SELECT * FROM salaries\", conn)\n",
    "titles = pd.read_sql(\"SELECT * FROM titles\", conn)\n",
    "employees = pd.read_sql(\"SELECT * FROM employees\", conn)"
   ]
  },
  {
   "cell_type": "code",
   "execution_count": 8,
   "id": "75bbe42c-e3e6-41f3-9171-174ff9fda891",
   "metadata": {},
   "outputs": [
    {
     "data": {
      "text/html": [
       "<div>\n",
       "<style scoped>\n",
       "    .dataframe tbody tr th:only-of-type {\n",
       "        vertical-align: middle;\n",
       "    }\n",
       "\n",
       "    .dataframe tbody tr th {\n",
       "        vertical-align: top;\n",
       "    }\n",
       "\n",
       "    .dataframe thead th {\n",
       "        text-align: right;\n",
       "    }\n",
       "</style>\n",
       "<table border=\"1\" class=\"dataframe\">\n",
       "  <thead>\n",
       "    <tr style=\"text-align: right;\">\n",
       "      <th></th>\n",
       "      <th>empl_num</th>\n",
       "      <th>salary</th>\n",
       "      <th>empl_title</th>\n",
       "      <th>date_of_birth</th>\n",
       "      <th>first_name</th>\n",
       "      <th>last_name</th>\n",
       "      <th>sex</th>\n",
       "      <th>hire_date</th>\n",
       "      <th>title_id</th>\n",
       "      <th>title</th>\n",
       "    </tr>\n",
       "  </thead>\n",
       "  <tbody>\n",
       "    <tr>\n",
       "      <th>0</th>\n",
       "      <td>10001</td>\n",
       "      <td>60117</td>\n",
       "      <td>e0003</td>\n",
       "      <td>9/2/1953</td>\n",
       "      <td>Georgi</td>\n",
       "      <td>Facello</td>\n",
       "      <td>M</td>\n",
       "      <td>1986-06-26</td>\n",
       "      <td>e0003</td>\n",
       "      <td>Senior Engineer</td>\n",
       "    </tr>\n",
       "    <tr>\n",
       "      <th>1</th>\n",
       "      <td>10003</td>\n",
       "      <td>40006</td>\n",
       "      <td>e0003</td>\n",
       "      <td>12/3/1959</td>\n",
       "      <td>Parto</td>\n",
       "      <td>Bamford</td>\n",
       "      <td>M</td>\n",
       "      <td>1986-08-28</td>\n",
       "      <td>e0003</td>\n",
       "      <td>Senior Engineer</td>\n",
       "    </tr>\n",
       "    <tr>\n",
       "      <th>2</th>\n",
       "      <td>10004</td>\n",
       "      <td>40054</td>\n",
       "      <td>e0003</td>\n",
       "      <td>5/1/1954</td>\n",
       "      <td>Chirstian</td>\n",
       "      <td>Koblick</td>\n",
       "      <td>M</td>\n",
       "      <td>1986-12-01</td>\n",
       "      <td>e0003</td>\n",
       "      <td>Senior Engineer</td>\n",
       "    </tr>\n",
       "    <tr>\n",
       "      <th>3</th>\n",
       "      <td>10006</td>\n",
       "      <td>40000</td>\n",
       "      <td>e0003</td>\n",
       "      <td>4/20/1953</td>\n",
       "      <td>Anneke</td>\n",
       "      <td>Preusig</td>\n",
       "      <td>F</td>\n",
       "      <td>1989-06-02</td>\n",
       "      <td>e0003</td>\n",
       "      <td>Senior Engineer</td>\n",
       "    </tr>\n",
       "    <tr>\n",
       "      <th>4</th>\n",
       "      <td>10009</td>\n",
       "      <td>60929</td>\n",
       "      <td>e0003</td>\n",
       "      <td>4/19/1952</td>\n",
       "      <td>Sumant</td>\n",
       "      <td>Peac</td>\n",
       "      <td>F</td>\n",
       "      <td>1985-02-18</td>\n",
       "      <td>e0003</td>\n",
       "      <td>Senior Engineer</td>\n",
       "    </tr>\n",
       "    <tr>\n",
       "      <th>...</th>\n",
       "      <td>...</td>\n",
       "      <td>...</td>\n",
       "      <td>...</td>\n",
       "      <td>...</td>\n",
       "      <td>...</td>\n",
       "      <td>...</td>\n",
       "      <td>...</td>\n",
       "      <td>...</td>\n",
       "      <td>...</td>\n",
       "      <td>...</td>\n",
       "    </tr>\n",
       "    <tr>\n",
       "      <th>300019</th>\n",
       "      <td>111534</td>\n",
       "      <td>48077</td>\n",
       "      <td>m0001</td>\n",
       "      <td>6/27/1952</td>\n",
       "      <td>Hilary</td>\n",
       "      <td>Kambil</td>\n",
       "      <td>F</td>\n",
       "      <td>1988-01-31</td>\n",
       "      <td>m0001</td>\n",
       "      <td>Manager</td>\n",
       "    </tr>\n",
       "    <tr>\n",
       "      <th>300020</th>\n",
       "      <td>111692</td>\n",
       "      <td>40000</td>\n",
       "      <td>m0001</td>\n",
       "      <td>10/5/1954</td>\n",
       "      <td>Tonny</td>\n",
       "      <td>Butterworth</td>\n",
       "      <td>F</td>\n",
       "      <td>1985-01-01</td>\n",
       "      <td>m0001</td>\n",
       "      <td>Manager</td>\n",
       "    </tr>\n",
       "    <tr>\n",
       "      <th>300021</th>\n",
       "      <td>111784</td>\n",
       "      <td>40000</td>\n",
       "      <td>m0001</td>\n",
       "      <td>6/14/1956</td>\n",
       "      <td>Marjo</td>\n",
       "      <td>Giarratana</td>\n",
       "      <td>F</td>\n",
       "      <td>1988-02-12</td>\n",
       "      <td>m0001</td>\n",
       "      <td>Manager</td>\n",
       "    </tr>\n",
       "    <tr>\n",
       "      <th>300022</th>\n",
       "      <td>111877</td>\n",
       "      <td>53846</td>\n",
       "      <td>m0001</td>\n",
       "      <td>10/18/1962</td>\n",
       "      <td>Xiaobin</td>\n",
       "      <td>Spinelli</td>\n",
       "      <td>F</td>\n",
       "      <td>1991-08-17</td>\n",
       "      <td>m0001</td>\n",
       "      <td>Manager</td>\n",
       "    </tr>\n",
       "    <tr>\n",
       "      <th>300023</th>\n",
       "      <td>111939</td>\n",
       "      <td>40000</td>\n",
       "      <td>m0001</td>\n",
       "      <td>3/25/1960</td>\n",
       "      <td>Yuchang</td>\n",
       "      <td>Weedman</td>\n",
       "      <td>M</td>\n",
       "      <td>1989-07-10</td>\n",
       "      <td>m0001</td>\n",
       "      <td>Manager</td>\n",
       "    </tr>\n",
       "  </tbody>\n",
       "</table>\n",
       "<p>300024 rows × 10 columns</p>\n",
       "</div>"
      ],
      "text/plain": [
       "        empl_num  salary empl_title date_of_birth first_name    last_name sex  \\\n",
       "0          10001   60117      e0003      9/2/1953     Georgi      Facello   M   \n",
       "1          10003   40006      e0003     12/3/1959      Parto      Bamford   M   \n",
       "2          10004   40054      e0003      5/1/1954  Chirstian      Koblick   M   \n",
       "3          10006   40000      e0003     4/20/1953     Anneke      Preusig   F   \n",
       "4          10009   60929      e0003     4/19/1952     Sumant         Peac   F   \n",
       "...          ...     ...        ...           ...        ...          ...  ..   \n",
       "300019    111534   48077      m0001     6/27/1952     Hilary       Kambil   F   \n",
       "300020    111692   40000      m0001     10/5/1954      Tonny  Butterworth   F   \n",
       "300021    111784   40000      m0001     6/14/1956      Marjo   Giarratana   F   \n",
       "300022    111877   53846      m0001    10/18/1962    Xiaobin     Spinelli   F   \n",
       "300023    111939   40000      m0001     3/25/1960    Yuchang      Weedman   M   \n",
       "\n",
       "         hire_date title_id            title  \n",
       "0       1986-06-26    e0003  Senior Engineer  \n",
       "1       1986-08-28    e0003  Senior Engineer  \n",
       "2       1986-12-01    e0003  Senior Engineer  \n",
       "3       1989-06-02    e0003  Senior Engineer  \n",
       "4       1985-02-18    e0003  Senior Engineer  \n",
       "...            ...      ...              ...  \n",
       "300019  1988-01-31    m0001          Manager  \n",
       "300020  1985-01-01    m0001          Manager  \n",
       "300021  1988-02-12    m0001          Manager  \n",
       "300022  1991-08-17    m0001          Manager  \n",
       "300023  1989-07-10    m0001          Manager  \n",
       "\n",
       "[300024 rows x 10 columns]"
      ]
     },
     "execution_count": 8,
     "metadata": {},
     "output_type": "execute_result"
    }
   ],
   "source": [
    "df = salaries.merge(employees, on = \"empl_num\")\n",
    "df = df.merge(titles, left_on = \"empl_title\", right_on = \"title_id\")\n",
    "df"
   ]
  },
  {
   "cell_type": "code",
   "execution_count": 9,
   "id": "04d9c4a3-116b-4990-a20b-90ca56a6c990",
   "metadata": {},
   "outputs": [
    {
     "data": {
      "image/png": "[encoded data removed]",
      "text/plain": [
       "<Figure size 432x288 with 1 Axes>"
      ]
     },
     "metadata": {
      "needs_background": "light"
     },
     "output_type": "display_data"
    }
   ],
   "source": [
    "plt.hist(df.salary)\n",
    "plt.xlabel(\"Salary\")\n",
    "plt.ylabel(\"Count of Employees\");"
   ]
  },
  {
   "cell_type": "code",
   "execution_count": 10,
   "id": "8d854617-bab3-446e-9186-e5f0e77b7655",
   "metadata": {},
   "outputs": [
    {
     "data": {
      "text/plain": [
       "title\n",
       "Assistant Engineer    48564.434447\n",
       "Engineer              48535.336511\n",
       "Manager               51531.041667\n",
       "Senior Engineer       48506.799871\n",
       "Senior Staff          58550.172704\n",
       "Staff                 58465.382850\n",
       "Technique Leader      48582.896092\n",
       "Name: salary, dtype: float64"
      ]
     },
     "execution_count": 10,
     "metadata": {},
     "output_type": "execute_result"
    }
   ],
   "source": [
    "df_salaries = pd.DataFrame(df.groupby(df.title).mean())[\"salary\"]\n",
    "df_salaries"
   ]
  },
  {
   "cell_type": "code",
   "execution_count": 11,
   "id": "5d906be4-267d-401e-a019-50b5c05e3942",
   "metadata": {},
   "outputs": [
    {
     "data": {
      "image/png": "[encoded data removed]",
      "text/plain": [
       "<Figure size 432x288 with 1 Axes>"
      ]
     },
     "metadata": {
      "needs_background": "light"
     },
     "output_type": "display_data"
    }
   ],
   "source": [
    "df_sal = df_salaries.sort_values()\n",
    "df_sal.plot.barh(title = \"Salary by Job Title\");"
   ]
  },
  {
   "cell_type": "code",
   "execution_count": 13,
   "id": "d7bf3289-67c2-480f-bf30-549ece6dad09",
   "metadata": {},
   "outputs": [
    {
     "data": {
      "text/html": [
       "<div>\n",
       "<style scoped>\n",
       "    .dataframe tbody tr th:only-of-type {\n",
       "        vertical-align: middle;\n",
       "    }\n",
       "\n",
       "    .dataframe tbody tr th {\n",
       "        vertical-align: top;\n",
       "    }\n",
       "\n",
       "    .dataframe thead th {\n",
       "        text-align: right;\n",
       "    }\n",
       "</style>\n",
       "<table border=\"1\" class=\"dataframe\">\n",
       "  <thead>\n",
       "    <tr style=\"text-align: right;\">\n",
       "      <th></th>\n",
       "      <th>empl_num</th>\n",
       "      <th>salary</th>\n",
       "      <th>empl_title</th>\n",
       "      <th>date_of_birth</th>\n",
       "      <th>first_name</th>\n",
       "      <th>last_name</th>\n",
       "      <th>sex</th>\n",
       "      <th>hire_date</th>\n",
       "      <th>title_id</th>\n",
       "      <th>title</th>\n",
       "    </tr>\n",
       "  </thead>\n",
       "  <tbody>\n",
       "    <tr>\n",
       "      <th>299999</th>\n",
       "      <td>499942</td>\n",
       "      <td>40000</td>\n",
       "      <td>e0004</td>\n",
       "      <td>1/10/1963</td>\n",
       "      <td>April</td>\n",
       "      <td>Foolsday</td>\n",
       "      <td>F</td>\n",
       "      <td>1997-02-10</td>\n",
       "      <td>e0004</td>\n",
       "      <td>Technique Leader</td>\n",
       "    </tr>\n",
       "  </tbody>\n",
       "</table>\n",
       "</div>"
      ],
      "text/plain": [
       "        empl_num  salary empl_title date_of_birth first_name last_name sex  \\\n",
       "299999    499942   40000      e0004     1/10/1963      April  Foolsday   F   \n",
       "\n",
       "         hire_date title_id             title  \n",
       "299999  1997-02-10    e0004  Technique Leader  "
      ]
     },
     "execution_count": 13,
     "metadata": {},
     "output_type": "execute_result"
    }
   ],
   "source": [
    "df[df['empl_num'] == 499942]"
   ]
  },
  {
   "cell_type": "code",
   "execution_count": null,
   "id": "6edf0c25-d120-4c2b-a49b-b09f9f243560",
   "metadata": {},
   "outputs": [],
   "source": []
  }
 ],
 "metadata": {
  "kernelspec": {
   "display_name": "Python 3",
   "language": "python",
   "name": "python3"
  },
  "language_info": {
   "codemirror_mode": {
    "name": "ipython",
    "version": 3
   },
   "file_extension": ".py",
   "mimetype": "text/x-python",
   "name": "python",
   "nbconvert_exporter": "python",
   "pygments_lexer": "ipython3",
   "version": "3.8.8"
  },
  "widgets": {
   "application/vnd.jupyter.widget-state+json": {
    "state": {},
    "version_major": 2,
    "version_minor": 0
   }
  }
 },
 "nbformat": 4,
 "nbformat_minor": 5
}
